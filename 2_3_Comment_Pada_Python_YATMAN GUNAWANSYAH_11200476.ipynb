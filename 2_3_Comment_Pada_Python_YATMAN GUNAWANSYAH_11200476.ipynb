{
 "cells": [
  {
   "cell_type": "code",
   "execution_count": 1,
   "id": "02ae1ff4",
   "metadata": {},
   "outputs": [
    {
     "name": "stdout",
     "output_type": "stream",
     "text": [
      "25\n"
     ]
    }
   ],
   "source": [
    "#ini adalah fungsi matematika\n",
    "#pada fungsi matematika ini akan menghasilkan output dari penghitungan matematika yang diiputkan\n",
    "print(10*2+5)"
   ]
  },
  {
   "cell_type": "code",
   "execution_count": 2,
   "id": "f26c3e91",
   "metadata": {},
   "outputs": [
    {
     "name": "stdout",
     "output_type": "stream",
     "text": [
      "20\n"
     ]
    }
   ],
   "source": [
    "#ini adalah fungsi mencetak kalimat\n",
    "#pada fungsi kalimat akan menghasilkan output kalimat atau kata\n",
    "print(\"20\")"
   ]
  },
  {
   "cell_type": "code",
   "execution_count": 3,
   "id": "bf102f59",
   "metadata": {},
   "outputs": [
    {
     "name": "stdout",
     "output_type": "stream",
     "text": [
      "YATMAN GUNAWANSYAH\n"
     ]
    }
   ],
   "source": [
    "#Assalamu'alaikum, nama saya yatman gunawansya\n",
    "print(\"YATMAN GUNAWANSYAH\")"
   ]
  },
  {
   "cell_type": "code",
   "execution_count": 4,
   "id": "656a7477",
   "metadata": {},
   "outputs": [
    {
     "name": "stdout",
     "output_type": "stream",
     "text": [
      "11200476\n"
     ]
    }
   ],
   "source": [
    "#ini adalah NIM saya, saya angkatan 2021\n",
    "print(\"11200476\")"
   ]
  },
  {
   "cell_type": "code",
   "execution_count": null,
   "id": "f8395e66",
   "metadata": {},
   "outputs": [],
   "source": []
  }
 ],
 "metadata": {
  "kernelspec": {
   "display_name": "Python 3 (ipykernel)",
   "language": "python",
   "name": "python3"
  },
  "language_info": {
   "codemirror_mode": {
    "name": "ipython",
    "version": 3
   },
   "file_extension": ".py",
   "mimetype": "text/x-python",
   "name": "python",
   "nbconvert_exporter": "python",
   "pygments_lexer": "ipython3",
   "version": "3.10.0"
  }
 },
 "nbformat": 4,
 "nbformat_minor": 5
}
